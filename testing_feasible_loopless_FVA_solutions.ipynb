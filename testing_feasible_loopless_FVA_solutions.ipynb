{
 "cells": [
  {
   "cell_type": "code",
   "execution_count": 1,
   "id": "13a86148-64de-4a1b-bba1-56c5ee595ab3",
   "metadata": {},
   "outputs": [],
   "source": [
    "import numpy as np\n",
    "import pandas as pd\n",
    "import cobra\n",
    "from cobra.io import read_sbml_model\n",
    "import matplotlib.pyplot as plt\n",
    "import seaborn as sns\n",
    "import plotly.express as px\n",
    "from cobra import Model, Reaction, Metabolite\n",
    "from cobra.flux_analysis.loopless import add_loopless, loopless_solution\n",
    "from cobra.flux_analysis import pfba\n",
    "from IPython.display import display, Markdown"
   ]
  },
  {
   "cell_type": "code",
   "execution_count": 2,
   "id": "f405c7df-9f23-4e22-b52e-b32855894db4",
   "metadata": {},
   "outputs": [
    {
     "name": "stdout",
     "output_type": "stream",
     "text": [
      "Set parameter Username\n",
      "Set parameter LicenseID to value 2611274\n",
      "Academic license - for non-commercial use only - expires 2026-01-17\n"
     ]
    },
    {
     "data": {
      "text/html": [
       "\n",
       "        <table>\n",
       "            <tr>\n",
       "                <td><strong>Name</strong></td>\n",
       "                <td>iCHO2441_221107_producing</td>\n",
       "            </tr><tr>\n",
       "                <td><strong>Memory address</strong></td>\n",
       "                <td>19d70769670</td>\n",
       "            </tr><tr>\n",
       "                <td><strong>Number of metabolites</strong></td>\n",
       "                <td>4174</td>\n",
       "            </tr><tr>\n",
       "                <td><strong>Number of reactions</strong></td>\n",
       "                <td>6337</td>\n",
       "            </tr><tr>\n",
       "                <td><strong>Number of genes</strong></td>\n",
       "                <td>2441</td>\n",
       "            </tr><tr>\n",
       "                <td><strong>Number of groups</strong></td>\n",
       "                <td>15</td>\n",
       "            </tr><tr>\n",
       "                <td><strong>Objective expression</strong></td>\n",
       "                <td>1.0*biomass_cho_prod - 1.0*biomass_cho_prod_reverse_1b5b7</td>\n",
       "            </tr><tr>\n",
       "                <td><strong>Compartments</strong></td>\n",
       "                <td>cytosol, lysosome, mitochondria, endoplasmicReticulum, nucleus, extracellularSpace, peroxisome, golgiApparatus, secretoryVesicle</td>\n",
       "            </tr>\n",
       "          </table>"
      ],
      "text/plain": [
       "<Model iCHO2441_221107_producing at 0x19d70769670>"
      ]
     },
     "execution_count": 2,
     "metadata": {},
     "output_type": "execute_result"
    }
   ],
   "source": [
    "model = read_sbml_model('iCHO2441_221-107_producing.xml')\n",
    "model"
   ]
  },
  {
   "cell_type": "code",
   "execution_count": 3,
   "id": "8897e11f-a759-48f3-b6af-12516891548d",
   "metadata": {},
   "outputs": [],
   "source": [
    "#update bounds to match experimental late exponential data\n",
    "bounds_df = pd.read_csv('bounds_df.csv')\n",
    "\n",
    "for index, row in bounds_df.iterrows():\n",
    "    reaction = model.reactions.get_by_id(row['reaction'])\n",
    "    reaction.lower_bound = row['lower bound']\n",
    "    reaction.upper_bound = row['upper bound']"
   ]
  },
  {
   "cell_type": "code",
   "execution_count": 4,
   "id": "7d388663-f85c-4314-92b6-5baffcf925aa",
   "metadata": {},
   "outputs": [
    {
     "name": "stdout",
     "output_type": "stream",
     "text": [
      "All reaction bounds were correctly updated!\n"
     ]
    }
   ],
   "source": [
    "#test all bounds updated correctly\n",
    "mismatches = []\n",
    "for index, row in bounds_df.iterrows():\n",
    "    reaction = model.reactions.get_by_id(row['reaction'])\n",
    "    if reaction.lower_bound != row['lower bound'] or reaction.upper_bound != row['upper bound']:\n",
    "        mismatches.append((row['reaction'], reaction.lower_bound, reaction.upper_bound, row['lower bound'], row['upper bound']))\n",
    "\n",
    "# Print mismatches if any\n",
    "if mismatches:\n",
    "    print(f\"{len(mismatches)} reactions have incorrect bounds:\")\n",
    "    for rxn, lb_model, ub_model, lb_csv, ub_csv in mismatches[:10]:  # Show first 10 mismatches\n",
    "        print(f\"{rxn}: Model({lb_model}, {ub_model}) != CSV({lb_csv}, {ub_csv})\")\n",
    "else:\n",
    "    print(\"All reaction bounds were correctly updated!\")"
   ]
  },
  {
   "cell_type": "code",
   "execution_count": 5,
   "id": "9c981c5d-d5f9-4091-aa1b-81a902747d1b",
   "metadata": {},
   "outputs": [],
   "source": [
    "#remove non-negative bound on lactate and ammonia exchange reactions to match experimental findings\n",
    "\n",
    "model.reactions.get_by_id('EX_lac_L(e)').lower_bound = -1000\n",
    "model.reactions.get_by_id('EX_nh4(e)').lower_bound = -1000"
   ]
  },
  {
   "cell_type": "code",
   "execution_count": 16,
   "id": "d473217e-8c33-4c40-be40-088bbeef9e61",
   "metadata": {},
   "outputs": [],
   "source": [
    "def evaluate_objectives(df, model, criteria_reactions):\n",
    "    \"\"\"Returns a dict of how many of the feasible FVA combinations matched 0-4 of the qualitative criteria\"\"\"\n",
    "    counts = {i: 0 for i in range(5)}\n",
    "    \n",
    "    for _, row in df.iterrows():\n",
    "        with model:\n",
    "            objective = model.problem.Objective(0, direction='max')\n",
    "            for rxn_id, coeff in row.items():\n",
    "                if coeff != 0:\n",
    "                    model.reactions.get_by_id(rxn_id).objective_coefficient = coeff\n",
    "            try:\n",
    "                sol = loopless_solution(model)\n",
    "            except:\n",
    "                continue  # skip failed FBA runs\n",
    "\n",
    "            matches = sum(\n",
    "                condition(sol.fluxes[rxn]) if rxn in sol.fluxes else False\n",
    "                for rxn, condition in criteria_reactions.items()\n",
    "            )\n",
    "            counts[matches] += 1\n",
    "    return counts"
   ]
  },
  {
   "cell_type": "code",
   "execution_count": 20,
   "id": "8480884a-e976-4315-b931-52f7eee3eb18",
   "metadata": {},
   "outputs": [
    {
     "name": "stdout",
     "output_type": "stream",
     "text": [
      "{0: 0, 1: 20, 2: 95, 3: 27, 4: 0}\n"
     ]
    }
   ],
   "source": [
    "#experimental qualitative criteria\n",
    "criteria_reactions = {\n",
    "    'EX_lac_L(e)': lambda f: f < 0,\n",
    "    'EX_nh4(e)': lambda f: f < 0,\n",
    "    'biomass_cho_prod': lambda f: f > 0,\n",
    "    'igg_formation': lambda f: f > 0\n",
    "}\n",
    "\n",
    "#feasible FVA solutions\n",
    "dfs = [\n",
    "    pd.read_csv(\"ammonia_objectives_loopless.csv\"),\n",
    "    pd.read_csv(\"lactate_objectives_loopless.csv\"),\n",
    "    pd.read_csv(\"glucose_objectives_loopless.csv\"),\n",
    "    pd.read_csv(\"glutamine_objectives_loopless.csv\")\n",
    "]\n",
    "\n",
    "# Accumulate counts across all feasible FVA solutions\n",
    "total_counts = {i: 0 for i in range(5)}\n",
    "\n",
    "for df in dfs:\n",
    "    result = evaluate_objectives(df, model, criteria_reactions)\n",
    "    for k in total_counts:\n",
    "        total_counts[k] += result[k]\n",
    "\n",
    "\n",
    "print(total_counts)"
   ]
  },
  {
   "cell_type": "code",
   "execution_count": 19,
   "id": "0abb92a3-b526-4d6b-a0a5-6680a8100acd",
   "metadata": {},
   "outputs": [
    {
     "data": {
      "image/png": "[encoded data removed]",
      "text/plain": [
       "<Figure size 640x480 with 1 Axes>"
      ]
     },
     "metadata": {},
     "output_type": "display_data"
    }
   ],
   "source": [
    "# Plot\n",
    "plt.bar(total_counts.keys(), total_counts.values(), color='skyblue')\n",
    "plt.xticks(range(5), [f\"{i} criteria\" for i in range(5)])\n",
    "plt.ylabel(\"Number of combinations\")\n",
    "plt.title(\"Total combinations matching criteria across all sets\")\n",
    "\n",
    "# More ticks on y-axis\n",
    "import numpy as np\n",
    "y_max = max(total_counts.values())\n",
    "plt.yticks(np.arange(0, y_max + 5, 5))  # tick every 5 units\n",
    "\n",
    "plt.tight_layout()\n",
    "plt.show()"
   ]
  },
  {
   "cell_type": "code",
   "execution_count": null,
   "id": "4200eeb6-1e7b-4679-af72-1dcb7a067f46",
   "metadata": {},
   "outputs": [],
   "source": []
  }
 ],
 "metadata": {
  "kernelspec": {
   "display_name": "Python 3 (ipykernel)",
   "language": "python",
   "name": "python3"
  },
  "language_info": {
   "codemirror_mode": {
    "name": "ipython",
    "version": 3
   },
   "file_extension": ".py",
   "mimetype": "text/x-python",
   "name": "python",
   "nbconvert_exporter": "python",
   "pygments_lexer": "ipython3",
   "version": "3.12.3"
  }
 },
 "nbformat": 4,
 "nbformat_minor": 5
}
