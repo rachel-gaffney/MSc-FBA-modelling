{
 "cells": [
  {
   "cell_type": "code",
   "execution_count": null,
   "id": "bd07acd3-31f0-48a0-90e8-20cf4ccc6f3a",
   "metadata": {},
   "outputs": [],
   "source": [
    "import numpy as np\n",
    "import pandas as pd\n",
    "import cobra\n",
    "from cobra.io import read_sbml_model\n",
    "import matplotlib.pyplot as plt\n",
    "import seaborn as sns\n",
    "import plotly.express as px\n",
    "from cobra import Model, Reaction, Metabolite\n",
    "from cobra.flux_analysis.loopless import add_loopless, loopless_solution\n",
    "from cobra.flux_analysis import pfba\n",
    "from IPython.display import display, Markdown"
   ]
  },
  {
   "cell_type": "code",
   "execution_count": 3,
   "id": "71bc74b8-916b-4c4a-a3fc-135cfd330775",
   "metadata": {},
   "outputs": [],
   "source": [
    "def find_combinations(param1_name, param2_name, param3_name):\n",
    "    \"\"\"\n",
    "    Finds combinations of values for three parameters where the sum of their\n",
    "    absolute values equals 1.\n",
    "\n",
    "    Args:\n",
    "        param1_name: The name of the first parameter (string).\n",
    "        param2_name: The name of the second parameter (string).\n",
    "        param3_name: The name of the third parameter (string).\n",
    "\n",
    "    Returns:\n",
    "        A list of dictionaries, where each dictionary represents a combination\n",
    "        of parameter values.\n",
    "    \"\"\"\n",
    "\n",
    "    results = []  # Start with an empty list to store our results\n",
    "\n",
    "    # Loop through possible values for each parameter\n",
    "    for i in range(0, 11):  # Range from -1.00 to 1.00\n",
    "        param1_value = i / 10.0  # Convert to a decimal value\n",
    "\n",
    "        for j in range(0, 11):\n",
    "            param2_value = j / 10.0\n",
    "\n",
    "            for k in range(-10, 11):\n",
    "                param3_value = k / 10.0\n",
    "\n",
    "                # Calculate the sum of absolute values\n",
    "                absolute_sum = abs(param1_value) + abs(param2_value) + abs(param3_value)\n",
    "\n",
    "                # Check if the sum is equal to 1\n",
    "                if abs(absolute_sum - 1.0) < 0.0001: # using a small tolerance due to floating point error.\n",
    "                    # Create a dictionary and add it to the results list\n",
    "                    result_dict = {\n",
    "                        param1_name: param1_value,\n",
    "                        param2_name: param2_value,\n",
    "                        param3_name: param3_value,\n",
    "                    }\n",
    "                    results.append(result_dict)\n",
    "\n",
    "    return results"
   ]
  },
  {
   "cell_type": "code",
   "execution_count": 4,
   "id": "269a228d-402c-4ed0-9a04-65ddc7ac556f",
   "metadata": {},
   "outputs": [],
   "source": [
    "def feasible_objectives(reaction1, reaction2, reaction3, positive_flux_list, negative_flux_list, fva_optimality = 0.95, loopless = False):\n",
    "    \"\"\"\n",
    "    Finds combinations of reaction objectives that result in feasible fluxes.\n",
    "\n",
    "    Args:\n",
    "        reaction1: Name of the first reaction.\n",
    "        reaction2: Name of the second reaction.\n",
    "        reaction3: Name of the third reaction.\n",
    "        positive_flux_list: List of reactions that should have positive flux.\n",
    "        negative_flux_list: List of reactions that should have negative flux.\n",
    "        fva_optimality: Fraction of optimum for flux variability analysis.\n",
    "        loopless: Whether to perform loopless FVA.\n",
    "\n",
    "    Returns:\n",
    "        A list of dictionaries, where each dictionary represents a feasible objective combination.\n",
    "    \"\"\"\n",
    "\n",
    "    feasible_objectives = []\n",
    "    objective_combinations = find_combinations(reaction1, reaction2, reaction3)\n",
    "\n",
    "    for combination in objective_combinations:\n",
    "\n",
    "        with model:\n",
    "            model.objective = combination\n",
    "            solution = model.optimize()\n",
    "            \n",
    "            if solution.status == 'optimal': # Only do FVA if the solution is optimal\n",
    "                fva = cobra.flux_analysis.flux_variability_analysis(model, positive_flux_list + negative_flux_list, fraction_of_optimum = fva_optimality, loopless = loopless)\n",
    "\n",
    "\n",
    "            positive_flux_ok = True # Flag to check if all positive fluxes are okay\n",
    "            for reaction in positive_flux_list:\n",
    "                if fva.loc[reaction, 'maximum'] <= 0: # Check if maximum flux is not greater than 0\n",
    "                    positive_flux_ok = False\n",
    "                    break # No need to check other positive fluxes\n",
    "    \n",
    "            negative_flux_ok = True # Flag to check if all negative fluxes are okay\n",
    "            if positive_flux_ok: # Only check negative fluxes if positive fluxes passed\n",
    "                for reaction in negative_flux_list:\n",
    "                    if fva.loc[reaction, 'minimum'] >= 0: # Check if minimum flux is not less than 0\n",
    "                        negative_flux_ok = False\n",
    "                        break # No need to check other negative fluxes\n",
    "    \n",
    "            if positive_flux_ok and negative_flux_ok: # If both positive and negative fluxes are okay\n",
    "                feasible_objectives.append(combination) # Add the combination to the results\n",
    "\n",
    "    return feasible_objectives"
   ]
  },
  {
   "cell_type": "code",
   "execution_count": 5,
   "id": "c020cb41-7363-482f-a8c2-66c504c767cd",
   "metadata": {},
   "outputs": [
    {
     "name": "stdout",
     "output_type": "stream",
     "text": [
      "Set parameter Username\n",
      "Set parameter LicenseID to value 2611274\n",
      "Academic license - for non-commercial use only - expires 2026-01-17\n"
     ]
    },
    {
     "data": {
      "text/html": [
       "\n",
       "        <table>\n",
       "            <tr>\n",
       "                <td><strong>Name</strong></td>\n",
       "                <td>iCHO2441_221107_producing</td>\n",
       "            </tr><tr>\n",
       "                <td><strong>Memory address</strong></td>\n",
       "                <td>20370310320</td>\n",
       "            </tr><tr>\n",
       "                <td><strong>Number of metabolites</strong></td>\n",
       "                <td>4174</td>\n",
       "            </tr><tr>\n",
       "                <td><strong>Number of reactions</strong></td>\n",
       "                <td>6337</td>\n",
       "            </tr><tr>\n",
       "                <td><strong>Number of genes</strong></td>\n",
       "                <td>2441</td>\n",
       "            </tr><tr>\n",
       "                <td><strong>Number of groups</strong></td>\n",
       "                <td>15</td>\n",
       "            </tr><tr>\n",
       "                <td><strong>Objective expression</strong></td>\n",
       "                <td>1.0*biomass_cho_prod - 1.0*biomass_cho_prod_reverse_1b5b7</td>\n",
       "            </tr><tr>\n",
       "                <td><strong>Compartments</strong></td>\n",
       "                <td>cytosol, lysosome, mitochondria, endoplasmicReticulum, nucleus, extracellularSpace, peroxisome, golgiApparatus, secretoryVesicle</td>\n",
       "            </tr>\n",
       "          </table>"
      ],
      "text/plain": [
       "<Model iCHO2441_221107_producing at 0x20370310320>"
      ]
     },
     "execution_count": 5,
     "metadata": {},
     "output_type": "execute_result"
    }
   ],
   "source": [
    "model = read_sbml_model('iCHO2441_221-107_producing.xml')\n",
    "model"
   ]
  },
  {
   "cell_type": "code",
   "execution_count": 6,
   "id": "4c3d99b8-3766-47b6-9f20-2cbd25e17673",
   "metadata": {},
   "outputs": [],
   "source": [
    "bounds_df = pd.read_csv('bounds_df.csv')\n",
    "\n",
    "for index, row in bounds_df.iterrows():\n",
    "    reaction = model.reactions.get_by_id(row['reaction'])\n",
    "    reaction.lower_bound = row['lower bound']\n",
    "    reaction.upper_bound = row['upper bound']"
   ]
  },
  {
   "cell_type": "code",
   "execution_count": 7,
   "id": "8bab0b9f-17b6-42c4-b486-f30ea6e8b42d",
   "metadata": {},
   "outputs": [
    {
     "name": "stdout",
     "output_type": "stream",
     "text": [
      "All reaction bounds were correctly updated!\n"
     ]
    }
   ],
   "source": [
    "mismatches = []\n",
    "for index, row in bounds_df.iterrows():\n",
    "    reaction = model.reactions.get_by_id(row['reaction'])\n",
    "    if reaction.lower_bound != row['lower bound'] or reaction.upper_bound != row['upper bound']:\n",
    "        mismatches.append((row['reaction'], reaction.lower_bound, reaction.upper_bound, row['lower bound'], row['upper bound']))\n",
    "\n",
    "# Print mismatches if any\n",
    "if mismatches:\n",
    "    print(f\"{len(mismatches)} reactions have incorrect bounds:\")\n",
    "    for rxn, lb_model, ub_model, lb_csv, ub_csv in mismatches[:10]:  # Show first 10 mismatches\n",
    "        print(f\"{rxn}: Model({lb_model}, {ub_model}) != CSV({lb_csv}, {ub_csv})\")\n",
    "else:\n",
    "    print(\"All reaction bounds were correctly updated!\")"
   ]
  },
  {
   "cell_type": "code",
   "execution_count": 8,
   "id": "79876006-c4bb-4f05-8933-a6c8d41770a9",
   "metadata": {},
   "outputs": [],
   "source": [
    "#remove non-negative bound on lactate and ammonia exchange reactions\n",
    "\n",
    "model.reactions.get_by_id('EX_lac_L(e)').lower_bound = -1000\n",
    "model.reactions.get_by_id('EX_nh4(e)').lower_bound = -1000"
   ]
  },
  {
   "cell_type": "code",
   "execution_count": 9,
   "id": "7d164697-63c8-4aa0-886b-d389db4c6480",
   "metadata": {},
   "outputs": [
    {
     "name": "stdout",
     "output_type": "stream",
     "text": [
      "the current model objective function is: Maximize\n",
      "1.0*biomass_cho_prod - 1.0*biomass_cho_prod_reverse_1b5b7\n"
     ]
    }
   ],
   "source": [
    "print('the current model objective function is:',model.objective)\n",
    "solution = model.optimize()"
   ]
  },
  {
   "cell_type": "code",
   "execution_count": 10,
   "id": "4d2db540-fa85-43e9-b1ae-f6db398da5f6",
   "metadata": {},
   "outputs": [],
   "source": [
    "igg = model.reactions.get_by_id('igg_formation')\n",
    "lactate = model.reactions.get_by_id('EX_lac_L(e)')\n",
    "glutamine = model.reactions.get_by_id('EX_gln_L(e)')\n",
    "glucose = model.reactions.get_by_id('EX_glc(e)')\n",
    "ammonia = model.reactions.get_by_id('EX_nh4(e)')\n",
    "biomass = model.reactions.get_by_id('biomass_cho_prod')\n",
    "\n",
    "positive_fluxes = ['biomass_cho_prod', 'igg_formation']\n",
    "negative_fluxes = ['EX_lac_L(e)', 'EX_nh4(e)']"
   ]
  },
  {
   "cell_type": "code",
   "execution_count": 11,
   "id": "3e1a9f3f-ce10-4e0c-aa27-e5096c2c4afa",
   "metadata": {},
   "outputs": [],
   "source": [
    "glucose_objectives = feasible_objectives(biomass, igg, glucose, positive_fluxes, negative_fluxes, 1, True)"
   ]
  },
  {
   "cell_type": "code",
   "execution_count": 14,
   "id": "6b3f0227-ba05-4228-a016-4e85fc125a74",
   "metadata": {},
   "outputs": [],
   "source": [
    "glutamine_objectives = feasible_objectives(biomass, igg, glutamine, positive_fluxes, negative_fluxes, 1, True)"
   ]
  },
  {
   "cell_type": "code",
   "execution_count": 16,
   "id": "d9987b1c-b623-464a-9cb3-8558f4374afa",
   "metadata": {},
   "outputs": [],
   "source": [
    "lactate_objectives = feasible_objectives(biomass, igg, lactate, positive_fluxes, negative_fluxes, 1, True)"
   ]
  },
  {
   "cell_type": "code",
   "execution_count": 18,
   "id": "ea083c53-a8e2-477f-897c-642ec120ea6a",
   "metadata": {},
   "outputs": [],
   "source": [
    "ammonia_objectives = feasible_objectives(biomass, igg, ammonia, positive_fluxes, negative_fluxes, 1, True)"
   ]
  },
  {
   "cell_type": "code",
   "execution_count": 20,
   "id": "22ce9adf-ccac-4137-9776-dbe5a432cfe1",
   "metadata": {},
   "outputs": [
    {
     "name": "stdout",
     "output_type": "stream",
     "text": [
      "feasible glucose objectives:\n",
      "    biomass_cho_prod  igg_formation  EX_glc(e)\n",
      "0                0.0            0.0       -1.0\n",
      "1                0.1            0.0       -0.9\n",
      "2                0.1            0.1       -0.8\n",
      "3                0.1            0.2       -0.7\n",
      "4                0.1            0.3       -0.6\n",
      "5                0.1            0.4       -0.5\n",
      "6                0.1            0.5       -0.4\n",
      "7                0.1            0.6       -0.3\n",
      "8                0.1            0.7       -0.2\n",
      "9                0.1            0.8       -0.1\n",
      "10               0.1            0.9        0.0\n",
      "11               0.2            0.0       -0.8\n",
      "12               0.2            0.1       -0.7\n",
      "13               0.2            0.2       -0.6\n",
      "14               0.2            0.3       -0.5\n",
      "15               0.2            0.4       -0.4\n",
      "16               0.2            0.5       -0.3\n",
      "17               0.2            0.6       -0.2\n",
      "18               0.2            0.7       -0.1\n",
      "19               0.2            0.8        0.0\n",
      "20               0.3            0.0       -0.7\n",
      "21               0.3            0.1       -0.6\n",
      "22               0.3            0.2       -0.5\n",
      "23               0.3            0.3       -0.4\n",
      "24               0.3            0.4       -0.3\n",
      "25               0.3            0.5       -0.2\n",
      "26               0.3            0.6       -0.1\n",
      "27               0.3            0.7        0.0\n",
      "28               0.4            0.0       -0.6\n",
      "29               0.4            0.1       -0.5\n",
      "30               0.4            0.2       -0.4\n",
      "31               0.4            0.3       -0.3\n",
      "32               0.4            0.4       -0.2\n",
      "33               0.4            0.5       -0.1\n",
      "34               0.4            0.6        0.0\n",
      "35               0.5            0.0       -0.5\n",
      "36               0.5            0.1       -0.4\n",
      "37               0.5            0.2       -0.3\n",
      "38               0.5            0.3       -0.2\n",
      "39               0.5            0.4       -0.1\n",
      "40               0.5            0.5        0.0\n",
      "41               0.6            0.0       -0.4\n",
      "42               0.6            0.1       -0.3\n",
      "43               0.6            0.2       -0.2\n",
      "44               0.6            0.3       -0.1\n",
      "45               0.6            0.4        0.0\n",
      "46               0.7            0.0       -0.3\n",
      "47               0.7            0.1       -0.2\n",
      "48               0.7            0.2       -0.1\n",
      "49               0.7            0.3        0.0\n",
      "50               0.8            0.0       -0.2\n",
      "51               0.8            0.1       -0.1\n",
      "52               0.8            0.2        0.0\n",
      "53               0.9            0.0       -0.1\n",
      "54               0.9            0.1        0.0\n",
      "55               1.0            0.0        0.0\n"
     ]
    }
   ],
   "source": [
    "formatted_data = [{k.id: v for k, v in d.items()} for d in glucose_objectives]\n",
    "\n",
    "# Create DataFrame\n",
    "glucose_df = pd.DataFrame(formatted_data)\n",
    "\n",
    "# Print DataFrame\n",
    "pd.set_option(\"display.max_rows\", None)\n",
    "print(\"feasible glucose objectives:\")\n",
    "print(glucose_df)\n",
    "glucose_df.to_csv(\"glucose_objectives_loopless.csv\", index=False)"
   ]
  },
  {
   "cell_type": "code",
   "execution_count": 21,
   "id": "f772a0b2-436e-4275-be66-d77efcbbb94f",
   "metadata": {},
   "outputs": [
    {
     "name": "stdout",
     "output_type": "stream",
     "text": [
      "feasible glutamine objectives:\n",
      "    biomass_cho_prod  igg_formation  EX_gln_L(e)\n",
      "0                0.0            0.0         -1.0\n",
      "1                0.1            0.0         -0.9\n",
      "2                0.1            0.1         -0.8\n",
      "3                0.1            0.2         -0.7\n",
      "4                0.1            0.3         -0.6\n",
      "5                0.1            0.4         -0.5\n",
      "6                0.1            0.5         -0.4\n",
      "7                0.1            0.6         -0.3\n",
      "8                0.1            0.7         -0.2\n",
      "9                0.1            0.8         -0.1\n",
      "10               0.1            0.9          0.0\n",
      "11               0.2            0.0         -0.8\n",
      "12               0.2            0.1         -0.7\n",
      "13               0.2            0.2         -0.6\n",
      "14               0.2            0.3         -0.5\n",
      "15               0.2            0.4         -0.4\n",
      "16               0.2            0.5         -0.3\n",
      "17               0.2            0.6         -0.2\n",
      "18               0.2            0.7         -0.1\n",
      "19               0.2            0.8          0.0\n",
      "20               0.3            0.0         -0.7\n",
      "21               0.3            0.1         -0.6\n",
      "22               0.3            0.2         -0.5\n",
      "23               0.3            0.3         -0.4\n",
      "24               0.3            0.4         -0.3\n",
      "25               0.3            0.5         -0.2\n",
      "26               0.3            0.6         -0.1\n",
      "27               0.3            0.7          0.0\n",
      "28               0.4            0.0         -0.6\n",
      "29               0.4            0.1         -0.5\n",
      "30               0.4            0.2         -0.4\n",
      "31               0.4            0.3         -0.3\n",
      "32               0.4            0.4         -0.2\n",
      "33               0.4            0.5         -0.1\n",
      "34               0.4            0.6          0.0\n",
      "35               0.5            0.0         -0.5\n",
      "36               0.5            0.1         -0.4\n",
      "37               0.5            0.2         -0.3\n",
      "38               0.5            0.3         -0.2\n",
      "39               0.5            0.4         -0.1\n",
      "40               0.5            0.5          0.0\n",
      "41               0.6            0.0         -0.4\n",
      "42               0.6            0.1         -0.3\n",
      "43               0.6            0.2         -0.2\n",
      "44               0.6            0.3         -0.1\n",
      "45               0.6            0.4          0.0\n",
      "46               0.7            0.0         -0.3\n",
      "47               0.7            0.1         -0.2\n",
      "48               0.7            0.2         -0.1\n",
      "49               0.7            0.3          0.0\n",
      "50               0.8            0.0         -0.2\n",
      "51               0.8            0.1         -0.1\n",
      "52               0.8            0.2          0.0\n",
      "53               0.9            0.0         -0.1\n",
      "54               0.9            0.1          0.0\n",
      "55               1.0            0.0          0.0\n"
     ]
    }
   ],
   "source": [
    "formatted_data = [{k.id: v for k, v in d.items()} for d in glutamine_objectives]\n",
    "\n",
    "# Create DataFrame\n",
    "glutamine_df = pd.DataFrame(formatted_data)\n",
    "\n",
    "# Print DataFrame\n",
    "print(\"feasible glutamine objectives:\")\n",
    "print(glutamine_df)\n",
    "glutamine_df.to_csv(\"glutamine_objectives_loopless.csv\", index=False)"
   ]
  },
  {
   "cell_type": "code",
   "execution_count": 22,
   "id": "6b0bf5e8-4728-451a-86fd-c7a169dd61e3",
   "metadata": {},
   "outputs": [
    {
     "name": "stdout",
     "output_type": "stream",
     "text": [
      "feasible lactate objectives:\n",
      "    biomass_cho_prod  igg_formation  EX_lac_L(e)\n",
      "0                0.0            0.0         -1.0\n",
      "1                0.1            0.0         -0.9\n",
      "2                0.1            0.9          0.0\n",
      "3                0.2            0.0         -0.8\n",
      "4                0.2            0.8          0.0\n",
      "5                0.3            0.0         -0.7\n",
      "6                0.3            0.7          0.0\n",
      "7                0.4            0.0         -0.6\n",
      "8                0.4            0.6          0.0\n",
      "9                0.5            0.0         -0.5\n",
      "10               0.5            0.5          0.0\n",
      "11               0.6            0.0         -0.4\n",
      "12               0.6            0.4          0.0\n",
      "13               0.7            0.0         -0.3\n",
      "14               0.7            0.3          0.0\n",
      "15               0.8            0.0         -0.2\n",
      "16               0.8            0.2          0.0\n",
      "17               0.9            0.0         -0.1\n",
      "18               0.9            0.1          0.0\n",
      "19               1.0            0.0          0.0\n"
     ]
    }
   ],
   "source": [
    "formatted_data = [{k.id: v for k, v in d.items()} for d in lactate_objectives]\n",
    "\n",
    "# Create DataFrame\n",
    "lactate_df = pd.DataFrame(formatted_data)\n",
    "\n",
    "# Print DataFrame\n",
    "print(\"feasible lactate objectives:\")\n",
    "print(lactate_df)\n",
    "lactate_df.to_csv(\"lactate_objectives_loopless.csv\", index=False)"
   ]
  },
  {
   "cell_type": "code",
   "execution_count": 23,
   "id": "f05a0912-ddf1-4427-aa83-84efa2c9223b",
   "metadata": {},
   "outputs": [
    {
     "name": "stdout",
     "output_type": "stream",
     "text": [
      "feasible ammonia objectives:\n",
      "   biomass_cho_prod  igg_formation  EX_nh4(e)\n",
      "0               0.1            0.9        0.0\n",
      "1               0.2            0.8        0.0\n",
      "2               0.3            0.7        0.0\n",
      "3               0.4            0.6        0.0\n",
      "4               0.5            0.5        0.0\n",
      "5               0.6            0.4        0.0\n",
      "6               0.7            0.3        0.0\n",
      "7               0.8            0.2        0.0\n",
      "8               0.9            0.1        0.0\n",
      "9               1.0            0.0        0.0\n"
     ]
    }
   ],
   "source": [
    "formatted_data = [{k.id: v for k, v in d.items()} for d in ammonia_objectives]\n",
    "\n",
    "# Create DataFrame\n",
    "ammonia_df = pd.DataFrame(formatted_data)\n",
    "\n",
    "# Print DataFrame\n",
    "print(\"feasible ammonia objectives:\")\n",
    "print(ammonia_df)\n",
    "ammonia_df.to_csv(\"ammonia_objectives_loopless.csv\", index=False)"
   ]
  }
 ],
 "metadata": {
  "kernelspec": {
   "display_name": "Python [conda env:FBA_masters_project]",
   "language": "python",
   "name": "conda-env-FBA_masters_project-py"
  },
  "language_info": {
   "codemirror_mode": {
    "name": "ipython",
    "version": 3
   },
   "file_extension": ".py",
   "mimetype": "text/x-python",
   "name": "python",
   "nbconvert_exporter": "python",
   "pygments_lexer": "ipython3",
   "version": "3.12.3"
  }
 },
 "nbformat": 4,
 "nbformat_minor": 5
}
