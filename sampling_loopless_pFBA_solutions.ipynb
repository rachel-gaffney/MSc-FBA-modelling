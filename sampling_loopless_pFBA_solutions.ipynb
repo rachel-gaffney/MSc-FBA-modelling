{
 "cells": [
  {
   "cell_type": "code",
   "execution_count": 10,
   "id": "9154458a-0c97-4c1a-9797-8bd79f5f0a13",
   "metadata": {},
   "outputs": [],
   "source": [
    "import numpy as np\n",
    "import pandas as pd\n",
    "import cobra\n",
    "from cobra.io import read_sbml_model\n",
    "import matplotlib.pyplot as plt\n",
    "from cobra import Model, Reaction, Metabolite\n",
    "from cobra.flux_analysis.loopless import add_loopless, loopless_solution\n",
    "from cobra.flux_analysis.parsimonious import add_pfba\n",
    "from cobra.flux_analysis import pfba\n",
    "from IPython.display import display, Markdown"
   ]
  },
  {
   "cell_type": "code",
   "execution_count": 11,
   "id": "76e2e1e5-dcc7-451d-8f0e-5101bcf49710",
   "metadata": {},
   "outputs": [],
   "source": [
    "import time\n",
    "from itertools import product\n",
    "\n",
    "from itertools import product\n",
    "import time\n",
    "\n",
    "def find_combinations(param_names, combination_size, step=0.01):\n",
    "    \"\"\"\n",
    "    Finds combinations of values for exactly `combination_size` parameters\n",
    "    where the sum of their absolute values equals 1, including `biomass` and `igg`\n",
    "    and cycling through the remaining parameters.\n",
    "    \n",
    "    Args:\n",
    "        param_names: A list of parameter names (strings).\n",
    "        combination_size: The number of non-zero coefficients in each combination (including biomass and igg).\n",
    "        step: The step size for iterating through values (default: 0.01).\n",
    "    \n",
    "    Returns:\n",
    "        A list of valid combinations for the given combination size.\n",
    "    \"\"\"\n",
    "    # Start timing the process\n",
    "    start_time = time.time()\n",
    "\n",
    "    # Prepare the value options for each parameter based on its name\n",
    "    value_options_dict = {}\n",
    "    \n",
    "    for param in param_names:\n",
    "        if param in [biomass, igg]:\n",
    "            # Only non-zero values between 0 and 1 (exclude 0)\n",
    "            value_range = (0.0, 1.0)\n",
    "            value_options_dict[param] = [round(x * step, 2) for x in range(1, int(value_range[1] / step) + 1)]  # Skip 0\n",
    "        elif param in [lactate, glutamine, glucose, ammonia]:\n",
    "            # Only non-positive values between -1 and 0\n",
    "            value_range = (-1.0, 0.0)\n",
    "            value_options_dict[param] = [round(x * step, 2) for x in range(int(value_range[0] / step), int(value_range[1] / step) + 1)]\n",
    "        else:\n",
    "            # Default range for other parameters\n",
    "            value_range = (-1.0, 1.0)\n",
    "            value_options_dict[param] = [round(x * step, 2) for x in range(int(value_range[0] / step), int(value_range[1] / step) + 1)]\n",
    "    \n",
    "    # Generate all combinations for the given number of non-zero reactions\n",
    "    valid_combinations = []\n",
    "    \n",
    "    # We must ensure that 'biomass' and 'igg' are always included in the combinations\n",
    "    selected_params = [biomass, igg] + [param for param in param_names if param not in [biomass, igg]]\n",
    "    \n",
    "    # Loop over all parameters, but only select a subset of combination_size\n",
    "    for selected_subset in product(*[value_options_dict[param] for param in selected_params[:combination_size]]):\n",
    "        non_zero_count = sum(1 for x in selected_subset if x != 0)\n",
    "\n",
    "        if non_zero_count == combination_size:\n",
    "            # Check if the sum of absolute values equals 1.0\n",
    "            if abs(sum(abs(x) for x in selected_subset) - 1.0) < 0.0001:  # Small tolerance for floating point errors\n",
    "                valid_combinations.append(dict(zip(selected_params[:combination_size], selected_subset)))\n",
    "\n",
    "    return valid_combinations\n",
    "\n",
    "\n",
    "\n",
    "def viable_loopless_fba_solutions(reaction_names, positive_flux_list, negative_flux_list):\n",
    "    \"\"\"\n",
    "    Finds viable loopless FBA solutions for any number of reactions, ensuring flux constraints.\n",
    "\n",
    "    Args:\n",
    "        reaction_names: A list of reaction names to be used in the objective function.\n",
    "        positive_flux_list: A list of reactions that should have positive flux.\n",
    "        negative_flux_list: A list of reactions that should have negative flux.\n",
    "\n",
    "    Returns:\n",
    "        A list of viable objective function dictionaries that meet the flux constraints.\n",
    "    \"\"\"\n",
    "    \n",
    "    viable_objectives = []\n",
    "    \n",
    "    # Start the timer\n",
    "    start_time = time.time()\n",
    "\n",
    "    # Iterate over the number of non-zero coefficients starting from 3\n",
    "    for combination_size in range(3, len(reaction_names) + 1):\n",
    "        print(f\"Generating combinations of size {combination_size}...\")\n",
    "\n",
    "        # Generate combinations for the current combination size\n",
    "        objective_combinations = find_combinations(reaction_names, combination_size)\n",
    "\n",
    "        # Check each combination for feasibility\n",
    "        for index, objective in enumerate(objective_combinations):\n",
    "            # Print current objective for debugging/monitoring\n",
    "            print(f\"Checking objective with {combination_size} non-zero coefficients: {objective}\")\n",
    "            \n",
    "            # Here, you perform the FBA and loopless solution checking\n",
    "            with model:\n",
    "                model.objective = objective\n",
    "                add_pfba(model, objective=objective)\n",
    "                solution = model.optimize()\n",
    "                loopless = loopless_solution(model).fluxes\n",
    "            \n",
    "                # Check if all reactions in positive_flux_list have positive flux\n",
    "                positive_flux_ok = all(loopless.loc[reaction] > 0 for reaction in positive_flux_list)\n",
    "                \n",
    "                # Check if all reactions in negative_flux_list have negative flux\n",
    "                negative_flux_ok = all(loopless.loc[reaction] < 0 for reaction in negative_flux_list)\n",
    "            \n",
    "                if positive_flux_ok and negative_flux_ok:\n",
    "                    viable_objectives.append(objective)  # Store valid objectives\n",
    "                    print(f\"Found viable solution: {objective}\")\n",
    "                    return viable_objectives  # Return immediately after finding the first feasible solution\n",
    "\n",
    "            # Estimate and print progress every 1000 iterations or on the final iteration\n",
    "            elapsed_time = time.time() - start_time\n",
    "            progress = (index + 1) / len(objective_combinations)\n",
    "            remaining_time = elapsed_time / progress - elapsed_time  # Estimate remaining time\n",
    "            print(f\"Progress: {progress * 100:.2f}% - Estimated time left: {remaining_time:.2f} seconds\")\n",
    "\n",
    "    return viable_objectives\n"
   ]
  },
  {
   "cell_type": "code",
   "execution_count": 12,
   "id": "e6b1a528-30d4-47eb-af8e-ba7396bcbaff",
   "metadata": {},
   "outputs": [
    {
     "data": {
      "text/html": [
       "\n",
       "        <table>\n",
       "            <tr>\n",
       "                <td><strong>Name</strong></td>\n",
       "                <td>iCHO2441_221107_producing</td>\n",
       "            </tr><tr>\n",
       "                <td><strong>Memory address</strong></td>\n",
       "                <td>136df7a1430</td>\n",
       "            </tr><tr>\n",
       "                <td><strong>Number of metabolites</strong></td>\n",
       "                <td>4174</td>\n",
       "            </tr><tr>\n",
       "                <td><strong>Number of reactions</strong></td>\n",
       "                <td>6337</td>\n",
       "            </tr><tr>\n",
       "                <td><strong>Number of genes</strong></td>\n",
       "                <td>2441</td>\n",
       "            </tr><tr>\n",
       "                <td><strong>Number of groups</strong></td>\n",
       "                <td>15</td>\n",
       "            </tr><tr>\n",
       "                <td><strong>Objective expression</strong></td>\n",
       "                <td>1.0*biomass_cho_prod - 1.0*biomass_cho_prod_reverse_1b5b7</td>\n",
       "            </tr><tr>\n",
       "                <td><strong>Compartments</strong></td>\n",
       "                <td>cytosol, lysosome, mitochondria, endoplasmicReticulum, nucleus, extracellularSpace, peroxisome, golgiApparatus, secretoryVesicle</td>\n",
       "            </tr>\n",
       "          </table>"
      ],
      "text/plain": [
       "<Model iCHO2441_221107_producing at 0x136df7a1430>"
      ]
     },
     "execution_count": 12,
     "metadata": {},
     "output_type": "execute_result"
    }
   ],
   "source": [
    "model = read_sbml_model('iCHO2441_221-107_producing.xml')\n",
    "model"
   ]
  },
  {
   "cell_type": "code",
   "execution_count": 13,
   "id": "d0d5ba8d-a1d1-4072-a548-b96f23b3a797",
   "metadata": {},
   "outputs": [],
   "source": [
    "bounds_df = pd.read_csv('bounds_df.csv')\n",
    "\n",
    "for index, row in bounds_df.iterrows():\n",
    "    reaction = model.reactions.get_by_id(row['reaction'])\n",
    "    reaction.lower_bound = row['lower bound']\n",
    "    reaction.upper_bound = row['upper bound']"
   ]
  },
  {
   "cell_type": "code",
   "execution_count": 14,
   "id": "6f15c3e8-f3c2-4ce6-a4f3-91b7573eaaf3",
   "metadata": {},
   "outputs": [
    {
     "name": "stdout",
     "output_type": "stream",
     "text": [
      "All reaction bounds were correctly updated!\n"
     ]
    }
   ],
   "source": [
    "mismatches = []\n",
    "for index, row in bounds_df.iterrows():\n",
    "    reaction = model.reactions.get_by_id(row['reaction'])\n",
    "    if reaction.lower_bound != row['lower bound'] or reaction.upper_bound != row['upper bound']:\n",
    "        mismatches.append((row['reaction'], reaction.lower_bound, reaction.upper_bound, row['lower bound'], row['upper bound']))\n",
    "\n",
    "# Print mismatches if any\n",
    "if mismatches:\n",
    "    print(f\"{len(mismatches)} reactions have incorrect bounds:\")\n",
    "    for rxn, lb_model, ub_model, lb_csv, ub_csv in mismatches[:10]:  # Show first 10 mismatches\n",
    "        print(f\"{rxn}: Model({lb_model}, {ub_model}) != CSV({lb_csv}, {ub_csv})\")\n",
    "else:\n",
    "    print(\"All reaction bounds were correctly updated!\")"
   ]
  },
  {
   "cell_type": "code",
   "execution_count": 15,
   "id": "1aa87ece-5d51-41b0-af28-d868fbebc322",
   "metadata": {},
   "outputs": [],
   "source": [
    "#remove non-negative bound on lactate and ammonia exchange reactions\n",
    "\n",
    "model.reactions.get_by_id('EX_lac_L(e)').lower_bound = -1000\n",
    "model.reactions.get_by_id('EX_nh4(e)').lower_bound = -1000"
   ]
  },
  {
   "cell_type": "code",
   "execution_count": 16,
   "id": "3affe718-d2cd-4934-8f19-09abe418dfe8",
   "metadata": {},
   "outputs": [
    {
     "name": "stdout",
     "output_type": "stream",
     "text": [
      "the current model objective function is: Maximize\n",
      "1.0*biomass_cho_prod - 1.0*biomass_cho_prod_reverse_1b5b7\n"
     ]
    }
   ],
   "source": [
    "print('the current model objective function is:',model.objective)\n",
    "solution = model.optimize()"
   ]
  },
  {
   "cell_type": "code",
   "execution_count": 17,
   "id": "7e66cf5f-d798-43c1-bfdc-de7fae75be69",
   "metadata": {},
   "outputs": [],
   "source": [
    "igg = model.reactions.get_by_id('igg_formation')\n",
    "lactate = model.reactions.get_by_id('EX_lac_L(e)')\n",
    "glutamine = model.reactions.get_by_id('EX_gln_L(e)')\n",
    "glucose = model.reactions.get_by_id('EX_glc(e)')\n",
    "ammonia = model.reactions.get_by_id('EX_nh4(e)')\n",
    "biomass = model.reactions.get_by_id('biomass_cho_prod')\n",
    "\n",
    "positive_fluxes = ['biomass_cho_prod', 'igg_formation']\n",
    "negative_fluxes = ['EX_lac_L(e)', 'EX_nh4(e)']"
   ]
  },
  {
   "cell_type": "code",
   "execution_count": null,
   "id": "61b5a6f0-3479-43c4-bd37-a6c5a284be0c",
   "metadata": {},
   "outputs": [
    {
     "name": "stdout",
     "output_type": "stream",
     "text": [
      "Generating combinations of size 3...\n",
      "Checking objective with 3 non-zero coefficients: {<Reaction biomass_cho_prod at 0x136e2a08da0>: 0.01, <Reaction igg_formation at 0x136e2b5f530>: 0.01, <Reaction EX_glc(e) at 0x136e1176810>: -0.98}\n",
      "Progress: 0.02% - Estimated time left: 55971.61 seconds\n",
      "Checking objective with 3 non-zero coefficients: {<Reaction biomass_cho_prod at 0x136e2a08da0>: 0.01, <Reaction igg_formation at 0x136e2b5f530>: 0.02, <Reaction EX_glc(e) at 0x136e1176810>: -0.97}\n"
     ]
    }
   ],
   "source": [
    "all_solutions = viable_loopless_fba_solutions([biomass, igg, glucose, glutamine, ammonia, lactate], positive_fluxes, negative_fluxes)"
   ]
  }
 ],
 "metadata": {
  "kernelspec": {
   "display_name": "Python 3 (ipykernel)",
   "language": "python",
   "name": "python3"
  },
  "language_info": {
   "codemirror_mode": {
    "name": "ipython",
    "version": 3
   },
   "file_extension": ".py",
   "mimetype": "text/x-python",
   "name": "python",
   "nbconvert_exporter": "python",
   "pygments_lexer": "ipython3",
   "version": "3.12.3"
  }
 },
 "nbformat": 4,
 "nbformat_minor": 5
}
